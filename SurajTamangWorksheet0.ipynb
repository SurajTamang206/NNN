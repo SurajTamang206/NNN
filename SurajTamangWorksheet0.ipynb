{
 "cells": [
  {
   "cell_type": "code",
   "execution_count": 8,
   "id": "dfc5d219-6dad-4b57-8cab-5910042ae081",
   "metadata": {},
   "outputs": [
    {
     "name": "stdout",
     "output_type": "stream",
     "text": [
      "[[1. 1.]\n",
      " [1. 1.]]\n"
     ]
    }
   ],
   "source": [
    "#Task 4.1 (1. Initialize an empty array with size 2X2.)\n",
    "import numpy as np\n",
    "a = np.ones((2, 2))\n",
    "print(a)\n"
   ]
  },
  {
   "cell_type": "code",
   "execution_count": 7,
   "id": "34f8e29a-d268-44be-b1b4-4a392883dced",
   "metadata": {},
   "outputs": [
    {
     "name": "stdout",
     "output_type": "stream",
     "text": [
      "[[1. 1.]\n",
      " [1. 1.]\n",
      " [1. 1.]\n",
      " [1. 1.]]\n"
     ]
    }
   ],
   "source": [
    "#Task 4.2 (2. Initialize an all one array with size 4X2.)\n",
    "import numpy as np\n",
    "a = np.ones((4, 2))\n",
    "print(a)"
   ]
  },
  {
   "cell_type": "code",
   "execution_count": 9,
   "id": "2ae36a07-cb77-408a-ad6d-a2c9ca1615b4",
   "metadata": {},
   "outputs": [
    {
     "name": "stdout",
     "output_type": "stream",
     "text": [
      "[[6 6]\n",
      " [6 6]\n",
      " [6 6]\n",
      " [6 6]]\n"
     ]
    }
   ],
   "source": [
    "#Task 4.3 (Return a new array of given shape and type, filled with fill value.{Hint: np.full}\n",
    "import numpy as np\n",
    "a= np.full((4, 2), 6)\n",
    "print(a)"
   ]
  },
  {
   "cell_type": "code",
   "execution_count": 11,
   "id": "85a00720-7461-4722-bb33-84bf12d2e349",
   "metadata": {},
   "outputs": [
    {
     "name": "stdout",
     "output_type": "stream",
     "text": [
      "[[0 0 0]\n",
      " [0 0 0]]\n"
     ]
    }
   ],
   "source": [
    "#Task 4.4 (Return a new array of zeros with same shape and type as a given array.{Hint: np.zeros like}\n",
    "import numpy as np\n",
    "array = np.array([[1, 2, 3], [4, 5, 6]])\n",
    "zeros = np.zeros_like(array)\n",
    "print(zeros)\n"
   ]
  },
  {
   "cell_type": "code",
   "execution_count": 16,
   "id": "236b05f0-31dd-464f-97c0-7573fbf59c93",
   "metadata": {},
   "outputs": [
    {
     "name": "stdout",
     "output_type": "stream",
     "text": [
      "[[1 1 1]\n",
      " [1 1 1]]\n"
     ]
    }
   ],
   "source": [
    "#Task 4.5 (Return a new array of ones with same shape and type as a given array.{Hint: np.ones like}\n",
    "import numpy as np\n",
    "a = np.array([[1, 2, 3], [4, 5, 6]])\n",
    "zeros = np.ones_like(a)\n",
    "print(zeros)"
   ]
  },
  {
   "cell_type": "code",
   "execution_count": 17,
   "id": "f9113d3e-c8c6-4d5f-b148-842f5c59fbb5",
   "metadata": {},
   "outputs": [
    {
     "name": "stdout",
     "output_type": "stream",
     "text": [
      "[1 2 3 4]\n"
     ]
    }
   ],
   "source": [
    "#Task 4.6 (For an existing list new_list = [1,2,3,4] convert to an numpy array.{Hint: np.array()}\n",
    "import numpy as np\n",
    "new_list = [1, 2, 3, 4]\n",
    "a = np.array(new_list)\n",
    "print(a)"
   ]
  },
  {
   "cell_type": "code",
   "execution_count": 19,
   "id": "e0f36d1f-2fd1-4da2-a145-a684b0338acb",
   "metadata": {},
   "outputs": [
    {
     "name": "stdout",
     "output_type": "stream",
     "text": [
      "[10 11 12 13 14 15 16 17 18 19 20 21 22 23 24 25 26 27 28 29 30 31 32 33\n",
      " 34 35 36 37 38 39 40 41 42 43 44 45 46 47 48 49]\n"
     ]
    }
   ],
   "source": [
    "#Task 4.1.1\n",
    "#Array Manipulation: Numerical Ranges and Array indexing:\n",
    "#Create an array with values ranging from 10 to 49. {Hint:np.arrange()}.\n",
    "import numpy as np\n",
    "a = np.arange(10, 50)\n",
    "print(a)"
   ]
  },
  {
   "cell_type": "code",
   "execution_count": 27,
   "id": "6fea4773-383a-49ec-92f7-391f8eba0c9c",
   "metadata": {},
   "outputs": [
    {
     "name": "stdout",
     "output_type": "stream",
     "text": [
      "[[0 1 2]\n",
      " [3 4 5]\n",
      " [6 7 8]]\n"
     ]
    }
   ],
   "source": [
    "#Create a 3X3 matrix with values ranging from 0 to 8. {Hint:look for np.reshape()}\n",
    "import numpy as np\n",
    "array = np.arange(9)\n",
    "matrix = array.reshape(3,3)\n",
    "print(matrix)"
   ]
  },
  {
   "cell_type": "code",
   "execution_count": 28,
   "id": "ff84252a-c715-40f7-89d2-bb9d3e287bf9",
   "metadata": {},
   "outputs": [
    {
     "name": "stdout",
     "output_type": "stream",
     "text": [
      "[[1. 0. 0.]\n",
      " [0. 1. 0.]\n",
      " [0. 0. 1.]]\n"
     ]
    }
   ],
   "source": [
    "#Task 4.1.1.3\n",
    "#Create a 3X3 identity matrix.{Hint:np.eye()}\n",
    "import numpy as np\n",
    "identity = np.eye(3)\n",
    "print(identity)"
   ]
  },
  {
   "cell_type": "code",
   "execution_count": 31,
   "id": "9cda9fe3-c33a-4b1b-82b8-f3e1551f52c0",
   "metadata": {},
   "outputs": [
    {
     "name": "stdout",
     "output_type": "stream",
     "text": [
      "[[0.02239654 0.25848965 0.384189   0.25254516 0.86487049 0.12043914\n",
      "  0.72598708 0.78123181 0.59972235 0.78163752]\n",
      " [0.57903625 0.88464359 0.57967899 0.62430666 0.47927291 0.17778259\n",
      "  0.87862529 0.15313983 0.9800176  0.96560457]\n",
      " [0.74379907 0.93976696 0.91427057 0.46932811 0.5725156  0.00966859\n",
      "  0.32049205 0.24802104 0.70225579 0.29788939]\n",
      " [0.94843745 0.15227978 0.27557417 0.16423324 0.9065525  0.50623681\n",
      "  0.10492435 0.42634174 0.34635284 0.25279085]\n",
      " [0.90377617 0.46372633 0.08732729 0.92653684 0.16662809 0.25623857\n",
      "  0.75030689 0.45536025 0.45422752 0.12899771]\n",
      " [0.95500283 0.66455019 0.2914833  0.90360035 0.3136355  0.2737536\n",
      "  0.84829277 0.21768983 0.21412604 0.26216133]\n",
      " [0.3595171  0.18892137 0.61073191 0.46299635 0.42676719 0.19255465\n",
      "  0.36736277 0.85690683 0.43448049 0.65345723]\n",
      " [0.76137805 0.75590393 0.78482294 0.57543314 0.12320884 0.7577817\n",
      "  0.53431948 0.92841887 0.18162245 0.22291857]\n",
      " [0.8880965  0.94233312 0.4250085  0.93630712 0.97838339 0.17565415\n",
      "  0.44684849 0.56215972 0.09054256 0.05330414]\n",
      " [0.63578844 0.7288227  0.26373373 0.75901069 0.594047   0.34628715\n",
      "  0.58653365 0.13851686 0.61767571 0.20199917]]\n",
      "Min:  0.009668589094041002\n",
      "Max:  0.9800176014994645\n"
     ]
    }
   ],
   "source": [
    "#Task 4.1.5 (Create a 10X10 array with random values and find the minimum and maximum values.)\n",
    "import numpy as np\n",
    "random_array = np.random.random((10, 10))\n",
    "min = random_array.min()\n",
    "max = random_array.max()\n",
    "print(random_array)\n",
    "print (\"Min: \", min)\n",
    "print(\"Max: \", max)\n"
   ]
  },
  {
   "cell_type": "code",
   "execution_count": 33,
   "id": "cd89e7b0-be67-46ea-bd57-1de726c3f823",
   "metadata": {},
   "outputs": [
    {
     "data": {
      "text/plain": [
       "array([0., 0., 0., 0., 1., 0., 0., 0., 0., 0.])"
      ]
     },
     "execution_count": 33,
     "metadata": {},
     "output_type": "execute_result"
    }
   ],
   "source": [
    "#Create a zero array of size 10 and replace 5th element with 1.\n",
    "import numpy as np\n",
    "array = np.zeros(10)\n",
    "array[4] = 1\n",
    "print(array)"
   ]
  },
  {
   "cell_type": "code",
   "execution_count": 35,
   "id": "101302b0-55f1-472e-ad00-7c86ccbb401b",
   "metadata": {},
   "outputs": [
    {
     "name": "stdout",
     "output_type": "stream",
     "text": [
      "[0, 4, 0, 0, 2, 1]\n"
     ]
    }
   ],
   "source": [
    "#Reverse an array arr = [1,2,0,0,4,0].\n",
    "arr = [1, 2, 0, 0, 4, 0]\n",
    "reversed = arr[::-1]\n",
    "print(reversed)"
   ]
  },
  {
   "cell_type": "code",
   "execution_count": 44,
   "id": "4e121d21-06fb-4157-9d4f-3ef402c9acf5",
   "metadata": {},
   "outputs": [
    {
     "name": "stdout",
     "output_type": "stream",
     "text": [
      "[[1. 1. 1. 1. 1.]\n",
      " [1. 0. 0. 0. 1.]\n",
      " [1. 0. 0. 0. 1.]\n",
      " [1. 0. 0. 0. 1.]\n",
      " [1. 1. 1. 1. 1.]]\n"
     ]
    }
   ],
   "source": [
    "#8. Create a 2d array with 1 on border and 0 inside.\n",
    "import numpy as np\n",
    "size = 5\n",
    "array = np.ones((size, size))\n",
    "array[1:-1, 1:-1] = 0  #It sets the inner elements (excluding the border) to 0 using slicing.\n",
    "print(array)"
   ]
  },
  {
   "cell_type": "code",
   "execution_count": 48,
   "id": "423dbc6c-99f8-4b95-8547-4ab2a20d15f0",
   "metadata": {},
   "outputs": [
    {
     "name": "stdout",
     "output_type": "stream",
     "text": [
      "[[1. 1. 1. 1.]\n",
      " [1. 0. 0. 1.]\n",
      " [1. 0. 0. 1.]\n",
      " [1. 1. 1. 1.]]\n"
     ]
    }
   ],
   "source": [
    "#2nd Try\n",
    "import numpy as np\n",
    "array = np.ones((4,4))\n",
    "array[1:-1, 1:-1] = 0\n",
    "print(array)"
   ]
  },
  {
   "cell_type": "code",
   "execution_count": 55,
   "id": "251b1279-a0d2-4e5d-8681-0280d8a192b7",
   "metadata": {},
   "outputs": [
    {
     "name": "stdout",
     "output_type": "stream",
     "text": [
      "[[1 0 1 0 1 0 1 0]\n",
      " [0 1 0 1 0 1 0 1]\n",
      " [1 0 1 0 1 0 1 0]\n",
      " [0 1 0 1 0 1 0 1]\n",
      " [1 0 1 0 1 0 1 0]\n",
      " [0 1 0 1 0 1 0 1]\n",
      " [1 0 1 0 1 0 1 0]\n",
      " [0 1 0 1 0 1 0 1]]\n"
     ]
    }
   ],
   "source": [
    "#Create a 8X8 matrix and fill it with a checkerboard pattern.\n",
    "import numpy as np\n",
    "checker = np.zeros((8, 8), dtype=int)\n",
    "checker[::2, ::2] = 1  # Set every other element in even rows and columns to 1\n",
    "checker[1::2, 1::2] = 1  # Set every other element in odd rows and columns to 1\n",
    "print(checker)"
   ]
  },
  {
   "cell_type": "code",
   "execution_count": 62,
   "id": "368bd569-89d1-46e5-ba19-b069adb118b6",
   "metadata": {},
   "outputs": [
    {
     "name": "stdout",
     "output_type": "stream",
     "text": [
      "1. Add:\n",
      "[[ 6  8]\n",
      " [10 13]]\n",
      "\n",
      "2. Subtract:\n",
      "[[-4 -4]\n",
      " [-4 -3]]\n",
      "\n",
      "3. Multiply the arrays by 2:\n",
      "x * 2:\n",
      "[[ 2  4]\n",
      " [ 6 10]]\n",
      "y * 2:\n",
      "[[10 12]\n",
      " [14 16]]\n",
      "\n",
      "4. Square of each element of the array:\n",
      "Square of x:\n",
      "[[ 1  4]\n",
      " [ 9 25]]\n",
      "Square of y:\n",
      "[[25 36]\n",
      " [49 64]]\n",
      "\n",
      "5. Dot product results:\n",
      "Dot product between v and w: 219\n",
      "Dot product between x and v: [29 77]\n",
      "Dot product between x and y: [[19 22]\n",
      " [50 58]]\n",
      "\n",
      "6. Concatenate results:\n",
      "Concatenate x and y along row:\n",
      "[[1 2]\n",
      " [3 5]\n",
      " [5 6]\n",
      " [7 8]]\n",
      "Concatenate v and w along column:\n",
      "[[ 9 11]\n",
      " [10 12]]\n"
     ]
    }
   ],
   "source": [
    " # Problem - 3: Array Operations:\n",
    "import numpy as np\n",
    "\n",
    "# Define the arrays\n",
    "x = np.array([[1, 2], [3, 5]])\n",
    "y = np.array([[5, 6], [7, 8]])\n",
    "v = np.array([9, 10])\n",
    "w = np.array([11, 12])\n",
    "\n",
    "# 1. Add the two arrays\n",
    "add_result = x + y\n",
    "print(\"1. Add:\")\n",
    "print(add_result)\n",
    "\n",
    "# 2. Subtract the two arrays\n",
    "subtract_result = x - y\n",
    "print(\"\\n2. Subtract:\")\n",
    "print(subtract_result)\n",
    "\n",
    "# 3. Multiply the array with any integers of your choice\n",
    "multiply_x = x * 2\n",
    "multiply_y = y * 2\n",
    "print(\"\\n3. Multiply the arrays by 2:\")\n",
    "print(\"x * 2:\")\n",
    "print(multiply_x)\n",
    "print(\"y * 2:\")\n",
    "print(multiply_y)\n",
    "\n",
    "# 4. Find the square of each element of the array\n",
    "square_x = np.square(x)\n",
    "square_y = np.square(y)\n",
    "print(\"\\n4. Square of each element of the array:\")\n",
    "print(\"Square of x:\")\n",
    "print(square_x)\n",
    "print(\"Square of y:\")\n",
    "print(square_y)\n",
    "\n",
    "# 5. Find the dot product between:\n",
    "# - v and w\n",
    "# - x and v\n",
    "# - x and y\n",
    "dot_v_w = np.dot(v, w)\n",
    "dot_x_v = np.dot(x, v)\n",
    "dot_x_y = np.dot(x, y)\n",
    "print(\"\\n5. Dot product results:\")\n",
    "print(f\"Dot product between v and w: {dot_v_w}\")\n",
    "print(f\"Dot product between x and v: {dot_x_v}\")\n",
    "print(f\"Dot product between x and y: {dot_x_y}\")\n",
    "\n",
    "# 6. Concatenate x and y along row and concatenate v and w along column\n",
    "concat_xy_row = np.concatenate((x, y), axis=0)\n",
    "concat_vw_column = np.concatenate((v.reshape(-1, 1), w.reshape(-1, 1)), axis=1)\n",
    "\n",
    "print(\"\\n6. Concatenate results:\")\n",
    "print(\"Concatenate x and y along row:\")\n",
    "print(concat_xy_row)\n",
    "print(\"Concatenate v and w along column:\")\n",
    "print(concat_vw_column)"
   ]
  },
  {
   "cell_type": "code",
   "execution_count": null,
   "id": "ff415afc-c3f1-41b1-81e4-32e7e869f548",
   "metadata": {},
   "outputs": [],
   "source": [
    "#ValueError: all the input arrays must have same number of dimensions\n",
    "#When we try to concatenate these arrays along axis=0 (i.e., row-wise), NumPy expects both arrays to have the same number of dimensions. However, x is 2D (shape (2, 2)) and v is 1D (shape (2,)), so NumPy can't concatenate them directly"
   ]
  },
  {
   "cell_type": "code",
   "execution_count": 67,
   "id": "ec2427ea-cb87-4a0e-b4b9-21baa48d1568",
   "metadata": {},
   "outputs": [
    {
     "name": "stdout",
     "output_type": "stream",
     "text": [
      "result: \n",
      "[[1.00000000e+00 0.00000000e+00]\n",
      " [1.77635684e-15 1.00000000e+00]]\n",
      "not proved:\n",
      "AB =\n",
      " [[23 13]\n",
      " [51 29]]\n",
      "BA =\n",
      " [[36 44]\n",
      " [13 16]]\n",
      "\n",
      "3. Prove (AB)^T = B^T A^T:\n",
      "Transpose of AB =\n",
      " [[23 51]\n",
      " [13 29]]\n",
      "B^T * A^T =\n",
      " [[23 51]\n",
      " [13 29]]\n",
      "\n",
      "4. Solution of the system of equations using Inverse Method:\n",
      "Solution (x, y, z): [ 2.  1. -2.]\n"
     ]
    }
   ],
   "source": [
    "import numpy as np\n",
    "A = np.array([[3, 4], [7, 8]])\n",
    "B = np.array([[5, 3], [2, 1]])\n",
    "\n",
    "A_inv = np.linalg.inv(A)\n",
    "result_A_inv = np.dot(A, A_inv)\n",
    "print(\"result: \")\n",
    "print(result_A_inv)\n",
    "\n",
    "AB = np.dot(A, B)\n",
    "BA = np.dot(B, A)\n",
    "print(\"not proved:\")\n",
    "print(\"AB =\\n\", AB)\n",
    "print(\"BA =\\n\", BA)\n",
    "\n",
    "AB_T = np.transpose(AB)\n",
    "B_T_A_T = np.dot(np.transpose(B), np.transpose(A))\n",
    "print(\"\\n3. Prove (AB)^T = B^T A^T:\")\n",
    "print(\"Transpose of AB =\\n\", AB_T)\n",
    "print(\"B^T * A^T =\\n\", B_T_A_T)\n",
    "\n",
    "A_eq = np.array([[2, -3, 1],\n",
    "                 [1, -1, 2],\n",
    "                 [3, 1, -1]])\n",
    "\n",
    "B_eq = np.array([-1, -3, 9])\n",
    "\n",
    "A_eq_inv = np.linalg.inv(A_eq)\n",
    "X = np.dot(A_eq_inv, B_eq)\n",
    "\n",
    "print(\"\\n4. Solution of the system of equations using Inverse Method:\")\n",
    "print(f\"Solution (x, y, z): {X}\")"
   ]
  },
  {
   "cell_type": "code",
   "execution_count": null,
   "id": "d935366a-5416-4280-90c9-ad0481442f72",
   "metadata": {},
   "outputs": [],
   "source": []
  }
 ],
 "metadata": {
  "kernelspec": {
   "display_name": "Python 3 (ipykernel)",
   "language": "python",
   "name": "python3"
  },
  "language_info": {
   "codemirror_mode": {
    "name": "ipython",
    "version": 3
   },
   "file_extension": ".py",
   "mimetype": "text/x-python",
   "name": "python",
   "nbconvert_exporter": "python",
   "pygments_lexer": "ipython3",
   "version": "3.13.0"
  }
 },
 "nbformat": 4,
 "nbformat_minor": 5
}
